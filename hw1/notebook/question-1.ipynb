{
 "cells": [
  {
   "cell_type": "markdown",
   "metadata": {},
   "source": [
    "# Install packages\n"
   ]
  },
  {
   "cell_type": "code",
   "execution_count": null,
   "metadata": {},
   "outputs": [],
   "source": [
    "!python -V\n",
    "!python -m pip install numpy pandas\n"
   ]
  },
  {
   "cell_type": "markdown",
   "metadata": {},
   "source": [
    "# Import libraries\n"
   ]
  },
  {
   "cell_type": "code",
   "execution_count": null,
   "metadata": {},
   "outputs": [],
   "source": [
    "import pandas as pd\n"
   ]
  },
  {
   "cell_type": "markdown",
   "metadata": {},
   "source": [
    "# Read the data into a data frame.\n"
   ]
  },
  {
   "cell_type": "code",
   "execution_count": null,
   "metadata": {},
   "outputs": [],
   "source": [
    "# Read the data into a data frame.\n",
    "df = pd.read_csv(\"../data/pitching.csv\")\n",
    "df\n"
   ]
  },
  {
   "cell_type": "markdown",
   "metadata": {},
   "source": [
    "# Display all pitchers in 2015 under each team sorted by their last names.\n"
   ]
  },
  {
   "cell_type": "code",
   "execution_count": null,
   "metadata": {},
   "outputs": [],
   "source": [
    "# Display all pitchers in 2015 under each team sorted by their last names.\n",
    "df2015 = df[df[\"yearID\"] == 2015]\n",
    "teams = df2015[\"teamID\"].unique()\n",
    "for team in teams:\n",
    "    pitchers = df2015[df2015[\"teamID\"] == team].sort_values(\"nameLast\")\n",
    "    print(f'===\\nTeam: {team}')\n",
    "    display(pitchers)\n"
   ]
  },
  {
   "cell_type": "markdown",
   "metadata": {},
   "source": [
    "# Display all pitchers in 2015 sorted by their ERAs. This allows you to identify the best and worst pitchers.\n"
   ]
  },
  {
   "cell_type": "code",
   "execution_count": null,
   "metadata": {},
   "outputs": [],
   "source": [
    "# Display all pitchers in 2015 sorted by their ERAs. This allows you to identify the best and worst pitchers.\n",
    "df2015.sort_values(\"ERA\")\n"
   ]
  },
  {
   "cell_type": "markdown",
   "metadata": {},
   "source": [
    "# Display all pitchers in 2015 under each team sorted by their ERAs.\n"
   ]
  },
  {
   "cell_type": "code",
   "execution_count": null,
   "metadata": {},
   "outputs": [],
   "source": [
    "# Display all pitchers in 2015 under each team sorted by their ERAs.\n",
    "for team in teams:\n",
    "    pitchers = df2015[df2015[\"teamID\"] == team].sort_values(\"ERA\")\n",
    "    print(f'===\\nTeam: {team}')\n",
    "    display(pitchers)\n"
   ]
  },
  {
   "cell_type": "markdown",
   "metadata": {},
   "source": [
    "# Display all pitchers in 2015 under each team sorted by their strike outs (SO).\n"
   ]
  },
  {
   "cell_type": "code",
   "execution_count": null,
   "metadata": {},
   "outputs": [],
   "source": [
    "# Display all pitchers in 2015 under each team sorted by their strike outs (SO).\n",
    "for team in teams:\n",
    "    pitchers = df2015[df2015[\"teamID\"] == team].sort_values(\"SO\")\n",
    "    print(f'===\\nTeam: {team}')\n",
    "    display(pitchers)\n"
   ]
  },
  {
   "cell_type": "markdown",
   "metadata": {},
   "source": [
    "# Calculate the average ERA for each team, list the teams by the average ERA in a descending order.\n"
   ]
  },
  {
   "cell_type": "code",
   "execution_count": null,
   "metadata": {},
   "outputs": [],
   "source": [
    "# Calculate the average ERA for each team, list the teams by the average ERA in a descending order.\n",
    "df.groupby(\"teamID\")[\"ERA\"].mean().sort_values(ascending=False)\n"
   ]
  },
  {
   "cell_type": "markdown",
   "metadata": {},
   "source": [
    "# Calculate the total number of home runs allowed (HRs) for each team, and list the team by the count in an ascending order.\n"
   ]
  },
  {
   "cell_type": "code",
   "execution_count": null,
   "metadata": {},
   "outputs": [],
   "source": [
    "# Calculate the total number of home runs allowed (HRs) for each team, and list the team by the count in an ascending order.\n",
    "df.groupby(\"teamID\")[[\"HR\"]].sum().sort_values(\"HR\")\n"
   ]
  },
  {
   "cell_type": "markdown",
   "metadata": {},
   "source": [
    "# Calculate each team’s average ERA from 2011 to 2015, and list the result as a table, where each column is a year, each row is a team.\n"
   ]
  },
  {
   "cell_type": "code",
   "execution_count": null,
   "metadata": {},
   "outputs": [],
   "source": [
    "# Calculate each team’s average ERA from 2011 to 2015, and list the result as a table, where each column is a year, each row is a team.\n",
    "df2011_2015 = df[(df[\"yearID\"] >= 2011) & (df[\"yearID\"] <= 2015)]\n",
    "df2011_2015.groupby([\"teamID\", \"yearID\"])[\"ERA\"].mean().unstack()\n"
   ]
  },
  {
   "cell_type": "markdown",
   "metadata": {},
   "source": [
    "# Calculate the average ERAs for American League (AL) and National League (NL) from 2011 to 2015, and list the result as a table, where each column is a league and each row is a year.\n"
   ]
  },
  {
   "cell_type": "code",
   "execution_count": null,
   "metadata": {},
   "outputs": [],
   "source": [
    "# Calculate the average ERAs for American League (AL) and National League (NL) from 2011 to 2015, and list the result as a table, where each column is a league and each row is a year.\n",
    "df2011_2015.groupby([\"yearID\", \"lgID\"])[\"ERA\"].mean().unstack()\n"
   ]
  },
  {
   "cell_type": "markdown",
   "metadata": {},
   "source": [
    "# List the pitchers who had the most wins in each of the years from 2011 to 2015.\n"
   ]
  },
  {
   "cell_type": "code",
   "execution_count": null,
   "metadata": {},
   "outputs": [],
   "source": [
    "# List the pitchers who had the most wins in each of the years from 2011 to 2015.\n",
    "df2011_2015.groupby(\"yearID\")[[\"W\", \"nameFirst\", \"nameLast\"]].max()\n"
   ]
  }
 ],
 "metadata": {
  "kernelspec": {
   "display_name": "Python 3.10.6 64-bit ('3.10.6')",
   "language": "python",
   "name": "python3"
  },
  "language_info": {
   "codemirror_mode": {
    "name": "ipython",
    "version": 3
   },
   "file_extension": ".py",
   "mimetype": "text/x-python",
   "name": "python",
   "nbconvert_exporter": "python",
   "pygments_lexer": "ipython3",
   "version": "3.10.6"
  },
  "orig_nbformat": 4,
  "vscode": {
   "interpreter": {
    "hash": "e0de8c9e28e15a17dde713fcd7baea462b6d03ee672796e58c1f2ec8dece9fa8"
   }
  }
 },
 "nbformat": 4,
 "nbformat_minor": 2
}
