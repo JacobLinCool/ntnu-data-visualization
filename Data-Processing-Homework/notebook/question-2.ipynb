{
 "cells": [
  {
   "cell_type": "markdown",
   "metadata": {},
   "source": [
    "# Install packages\n"
   ]
  },
  {
   "cell_type": "code",
   "execution_count": null,
   "metadata": {},
   "outputs": [],
   "source": [
    "!python -V\n",
    "!python -m pip install numpy pandas matplotlib\n"
   ]
  },
  {
   "cell_type": "markdown",
   "metadata": {},
   "source": [
    "# Import libraries\n"
   ]
  },
  {
   "cell_type": "code",
   "execution_count": null,
   "metadata": {},
   "outputs": [],
   "source": [
    "import pandas as pd\n",
    "import matplotlib.pyplot as plt\n"
   ]
  },
  {
   "cell_type": "markdown",
   "metadata": {},
   "source": [
    "# Load CSV files into data frames.\n"
   ]
  },
  {
   "cell_type": "code",
   "execution_count": null,
   "metadata": {},
   "outputs": [],
   "source": [
    "# Load CSV files into data frames.\n",
    "pitching = pd.read_csv(\"../data/pitching.csv\")\n",
    "players = pd.read_csv(\"../data/players.csv\")\n",
    "teams = pd.read_csv(\"../data/teams.csv\")\n",
    "\n",
    "pitching = pitching[(pitching[\"yearID\"] >= 2011) &\n",
    "                    (pitching[\"yearID\"] <= 2015)]\n",
    "players = players[(players[\"yearID\"] >= 2011) & (players[\"yearID\"] <= 2015)]\n",
    "teams = teams[(teams[\"yearID\"] >= 2011) & (teams[\"yearID\"] <= 2015)]\n"
   ]
  },
  {
   "cell_type": "markdown",
   "metadata": {},
   "source": [
    "# Task 1\n",
    "\n",
    "1. Compute the total number of wins for each of the teams in MLB over 2011-2015, sort them in a\n",
    "   descending order.\n",
    "2. Compute the average payroll per year for all teams over 2011-2015, sort them in a descending order.\n",
    "3. Create a visualization of your choice which will all allow you to show whether a team’s winning record is related to its payroll. So is a team’s winning record related to its payroll?\n"
   ]
  },
  {
   "cell_type": "code",
   "execution_count": null,
   "metadata": {},
   "outputs": [],
   "source": [
    "# Compute the total number of wins for each of the teams in MLB over 2011-2015, sort them in a descending order.\n",
    "sorted_teams = teams.groupby(\"teamID\").sum().sort_values(\"W\", ascending=False)\n",
    "sorted_teams[\"WR\"] = sorted_teams[\"W\"] / sorted_teams[\"G\"]\n",
    "\n",
    "# Compute the average payroll per year for all teams over 2011-2015, sort them in a descending order.\n",
    "payrolls = players.groupby(\"teamID\").mean(\n",
    ").sort_values(\"salary\", ascending=False)\n",
    "sorted_teams = sorted_teams.join(payrolls[[\"salary\"]], on=\"teamID\")\n",
    "\n",
    "# Create a visualization of your choice which will all allow you to show whether a team’s winning record is related to its payroll. So is a team’s winning record related to its payroll?\n",
    "fig, ax = plt.subplots()\n",
    "ax.scatter(sorted_teams[\"W\"], sorted_teams[\"salary\"])\n",
    "ax.set_xlabel(\"Wins\")\n",
    "ax.set_ylabel(\"Payroll\")\n",
    "ax.set_title(\n",
    "    \"Relationship between wins and payroll of MLB teams (2011 ~ 2015)\", pad=24)\n",
    "plt.grid(True)\n",
    "corr = sorted_teams[\"W\"].corr(sorted_teams[\"salary\"])\n",
    "plt.text(0.05, 0.9, f\"Correlation: {corr:.2f}\", transform=ax.transAxes)\n",
    "plt.show()\n"
   ]
  },
  {
   "cell_type": "markdown",
   "metadata": {},
   "source": [
    "# Task 2\n",
    "\n",
    "1. Compute the Batting Averages for each of the MLB teams over 2011-2015, sort them in a descending-order. The Batting Average is defined as Hits/At Bats. The average is calculated from all players in each team.\n",
    "2. Create a visualization of your choice which will allow you to decide whether a team’s batting average is related to its win-loss record. So is a team’s winning record related to its batting average?\n"
   ]
  },
  {
   "cell_type": "code",
   "execution_count": null,
   "metadata": {},
   "outputs": [],
   "source": [
    "# Compute the Batting Averages for each of the MLB teams over 2011-2015, sort them in a descending-order. The Batting Average is defined as Hits/At Bats. The average is calculated from all players in each team.\n",
    "battings = players.groupby(\"teamID\").sum()\n",
    "battings[\"BA\"] = battings[\"H\"] / battings[\"AB\"]\n",
    "battings = battings.sort_values(\"BA\", ascending=False)\n",
    "sorted_teams = sorted_teams.join(battings[[\"BA\"]], on=\"teamID\")\n",
    "\n",
    "# Create a visualization of your choice which will allow you to decide whether a team’s batting average is related to its win-loss record. So is a team’s winning record related to its batting average?\n",
    "fig, ax = plt.subplots()\n",
    "ax.scatter(sorted_teams[\"W\"], sorted_teams[\"BA\"])\n",
    "ax.set_xlabel(\"Wins\")\n",
    "ax.set_ylabel(\"Batting Average\")\n",
    "ax.set_title(\n",
    "    \"Relationship between wins and batting average of MLB teams (2011 ~ 2015)\", pad=24)\n",
    "plt.grid(True)\n",
    "corr = sorted_teams[\"W\"].corr(sorted_teams[\"BA\"])\n",
    "plt.text(0.05, 0.9, f\"Correlation: {corr:.2f}\", transform=ax.transAxes)\n",
    "plt.show()\n"
   ]
  },
  {
   "cell_type": "markdown",
   "metadata": {},
   "source": [
    "# Task 3\n",
    "\n",
    "1. Display the average ERA (Earned Run Average) for each of the MLB teams in 2011-2015, sort them in a descending order. A lower ERA indicates a better pitching performance.\n",
    "2. Create a visualization of your choice which will allow you to decide if a team’s win-loss record is related to its pitching performance. So is a team’s winning record related to its pitching performance?\n"
   ]
  },
  {
   "cell_type": "code",
   "execution_count": null,
   "metadata": {},
   "outputs": [],
   "source": [
    "# Display the average ERA (Earned Run Average) for each of the MLB teams in 2011-2015, sort them in a descending order. A lower ERA indicates a better pitching performance.\n",
    "eras = pitching.groupby(\"teamID\").mean().sort_values(\"ERA\", ascending=True)\n",
    "sorted_teams = sorted_teams.join(eras[[\"ERA\"]], on=\"teamID\", rsuffix=\"_AVG\")\n",
    "\n",
    "# Create a visualization of your choice which will allow you to decide if a team’s win-loss record is related to its pitching performance.  So is a team’s winning record related to its pitching performance?\n",
    "fig, ax = plt.subplots()\n",
    "ax.scatter(sorted_teams[\"W\"], sorted_teams[\"ERA_AVG\"])\n",
    "ax.set_xlabel(\"Wins\")\n",
    "ax.set_ylabel(\"ERA\")\n",
    "ax.set_title(\n",
    "    \"Relationship between wins and ERA average of MLB teams (2011 ~ 2015)\", pad=24)\n",
    "plt.grid(True)\n",
    "corr = sorted_teams[\"W\"].corr(sorted_teams[\"ERA_AVG\"])\n",
    "plt.text(0.05, 0.9, f\"Correlation: {corr:.2f}\", transform=ax.transAxes)\n",
    "plt.show()\n"
   ]
  },
  {
   "cell_type": "markdown",
   "metadata": {},
   "source": [
    "# Final Answers\n",
    "\n",
    "## In the year of 2011-2015, Is a team’s win-loss record related to its payrolls?\n",
    "\n",
    "Yes, a team’s win-loss record is related to its payrolls.\n",
    "\n",
    "From the above plot, we can clearly see that the trending: the higher the payroll, the more wins a team has. The correlation between payroll and wins is positive. The correlation coefficient is `0.41`, which means the moderate positive correlation.\n",
    "\n",
    "Also, if we change the \"wins\" to \"winning rate\", the correlation coefficient becomes stronger, which is `0.46`.\n",
    "\n",
    "## In the year of 2011-2015, Is a player’s batting performance related to his team’s win-loss record? \n",
    "\n",
    "Yes, a player’s batting performance is related to his team’s win-loss record.\n",
    "\n",
    "From the above plot, we can clearly see that the trending: the higher the batting average, the more wins a team has. The correlation between batting average and wins is positive. The correlation coefficient is `0.34`, which does not mean a strong positive correlation.\n",
    "\n",
    "But if we change the \"wins\" to \"winning rate\", the correlation coefficient becomes much more stronger, which is `0.42`.\n",
    "\n",
    "## In the year of 2011-2015, is a team’s win-loss record related to its pitching performance?\n",
    "\n",
    "No, a team’s win-loss record is not related to its pitching performance.\n",
    "\n",
    "The plot shows no obvious trending between ERA and wins. The correlation coefficient is a very weak correlation, which is `-0.02`.\n",
    "\n",
    "And if we replace the \"wins\" with \"winning rate\", although the correlation coefficient becomes a stronger negative correlation, which is `-0.14`. But the plot becomes more scattered, which means the correlation is not strong enough.\n"
   ]
  }
 ],
 "metadata": {
  "kernelspec": {
   "display_name": "Python 3.10.6 64-bit ('3.10.6')",
   "language": "python",
   "name": "python3"
  },
  "language_info": {
   "codemirror_mode": {
    "name": "ipython",
    "version": 3
   },
   "file_extension": ".py",
   "mimetype": "text/x-python",
   "name": "python",
   "nbconvert_exporter": "python",
   "pygments_lexer": "ipython3",
   "version": "3.10.6"
  },
  "orig_nbformat": 4,
  "vscode": {
   "interpreter": {
    "hash": "e0de8c9e28e15a17dde713fcd7baea462b6d03ee672796e58c1f2ec8dece9fa8"
   }
  }
 },
 "nbformat": 4,
 "nbformat_minor": 2
}
